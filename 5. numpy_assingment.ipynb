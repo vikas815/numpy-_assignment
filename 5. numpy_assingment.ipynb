{
 "cells": [
  {
   "cell_type": "code",
   "execution_count": 1,
   "id": "8307cb6f-d203-437a-a8e1-0e1f4a6472ac",
   "metadata": {},
   "outputs": [],
   "source": [
    "#         THEORY QUESTIONS:\n",
    "\n",
    "\n",
    "# Q1:- Explain the purpose and advantages of NumPy in scientific computing and data analysis. How does it enhance Python's\n",
    "              #capabilities for numerical operations?\n",
    "\n",
    "# NumPy (Numerical Python) is a fundamental library in Python for scientific computing and data analysis.\n",
    "# It provides support for multi-dimensional arrays and matrices, along with a collection of mathematical functions to \n",
    "        #operate on these arrays.\n",
    "\n",
    "# Here are some key advantages & ways for numerical operations:----\n",
    "   \n",
    "    \n",
    "# 1.  Array Operations:-\n",
    "#(a) Multi-Dimensional Arrays: Numpy introduces the ndarray object, a powerful n-dimensional array that allows for efficient storage and manipulation of numerical \n",
    "                                #data. Unlike Python's built-in lists, NumPy arrays are more compact and provide better performance for numerical computations.\n",
    "#(b) Element-Wise Operations: it concise and compute, Operations on arrays are automatically vectorized, meaning that operations are performed on entire arrays \n",
    "                              #without the need for explicit loops, which significantly speeds up computations.\n",
    "\n",
    "    \n",
    "# 2. Performance:-\n",
    "#(a) Speed: its operations much faster than Python loops. This is because the heavy lifting is done in lower-level languages, \n",
    "            #and Python merely acts as a high-level interface.\n",
    "#(b) Memory Efficiency: NumPy arrays use less memory compared to Python lists. They store data in contiguous blocks of memory and use a fixed-size data type,\n",
    "                        #which makes them more memory-efficient and faster to access.\n",
    "    \n",
    "    \n",
    "# 3. Mathematical Functions:-\n",
    "#(a) Comprehensive Library: NumPy provides a vast array of mathematical functions and operations, including linear algebra, statistical operations,\n",
    "                            #These functions are optimized for performance and are essential for many scientific computing tasks.\n",
    "#(b) Broadcasting: it allows operations on arrays of different shapes. This feature simplifies code and can lead to significant performance improvements\n",
    "                    #by eliminating the need for explicit looping or replication of data.\n",
    "\n",
    "\n",
    "# 4. Convenience:-\n",
    "#(a) Ease of Use: NumPy provides a high-level API for handling numerical data, which simplifies code and improves readability. Operations that would \n",
    "                  #require complex looping and manual calculations in native Python can be achieved with a few lines of code using NumPy functions.\n",
    "#(b) Array Manipulation: NumPy offers powerful tools for reshaping, slicing, and manipulating arrays, which are crucial for preparing and analyzing data\n",
    "                         #efficiently.\n",
    "    \n",
    "    \n",
    "#   SUMMARY:-\n",
    "\n",
    "# Numpy significantly enhances Python’s capabilities for numerical operations by providing efficient array handling, fast computation, extensive mathematical \n",
    "#functions, & seamless integration with other scientific libraries, its performance and ease of use make it a cornerstone of scientific computing & data analysis \n",
    "#in Python."
   ]
  },
  {
   "cell_type": "code",
   "execution_count": 2,
   "id": "748e9aca-f9ab-40d9-a3d9-33ef4bf37683",
   "metadata": {},
   "outputs": [
    {
     "data": {
      "text/plain": [
       "np.float64(3.0)"
      ]
     },
     "execution_count": 2,
     "metadata": {},
     "output_type": "execute_result"
    }
   ],
   "source": [
    "#Q2:-    Compare and contrast np.mean() and np.average() functions in NumPy. When would you use one over the other?\n",
    "\n",
    "\n",
    "#np.mean()  used for simple arithmetic mean of an array, does't support weights, only use for general mean calculations\n",
    "#SYNTAX >>  np.mean(a, axis=None, dtype=None, out=None, keepdims=False)\n",
    "\n",
    "#EXAMPLE:-\n",
    "import numpy as np\n",
    "\n",
    "arr = np.array([1, 2, 3, 4, 5])\n",
    "mean_value = np.mean(arr) \n",
    "mean_value                   # Output: 3.0"
   ]
  },
  {
   "cell_type": "code",
   "execution_count": 3,
   "id": "c9f14832-594a-4206-921a-861eb369db1f",
   "metadata": {},
   "outputs": [
    {
     "data": {
      "text/plain": [
       "np.float64(3.2)"
      ]
     },
     "execution_count": 3,
     "metadata": {},
     "output_type": "execute_result"
    }
   ],
   "source": [
    "#np.average() computes the weighted average if weights are provided \n",
    "#SYMTAX >>  np.average(a, axis=None, weights=None, returned=False)\n",
    " \n",
    "#EXAMPLE:-\n",
    "import numpy as np\n",
    "\n",
    "values = np.array([1, 2, 3, 4, 5])\n",
    "weights = np.array([1, 1, 1, 1, 1])\n",
    "weighted_avg = np.average(values, weights=weights)  \n",
    "\n",
    "weights = np.array([0.1, 0.2, 0.3, 0.2, 0.2])\n",
    "weighted_avg = np.average(values, weights=weights) \n",
    "weighted_avg                                       \n"
   ]
  },
  {
   "cell_type": "code",
   "execution_count": 4,
   "id": "b764d412-8284-4c96-bf25-69ec4ca09dfb",
   "metadata": {},
   "outputs": [],
   "source": [
    "#SUMMARY:-\n",
    "# np.mean() used for general mean calculations, while np.average() provides additional functionality for computing weighted means.\n"
   ]
  },
  {
   "cell_type": "code",
   "execution_count": 5,
   "id": "0768955f-2640-408f-8858-af07c1cc2875",
   "metadata": {},
   "outputs": [
    {
     "name": "stdout",
     "output_type": "stream",
     "text": [
      "original_arr [1 2 3 4 5 6 7 8 9]\n",
      "reverced_arr [9 8 7 6 5 4 3 2 1]\n"
     ]
    }
   ],
   "source": [
    "#Q3:-  Describe the methods for reversing a NumPy array along different axes. Provide examples for 1D and 2D arrays?\n",
    "\n",
    "# we can reversing a numpy array with the 'slicing' method in both 1D and 2D arrays along with different axes.\n",
    "# Here's an example:-\n",
    "\n",
    "# 1D numpy array:-\n",
    "\n",
    "import numpy as np\n",
    "arr=np.array([1,2,3,4,5,6,7,8,9])\n",
    "reversed_arr=arr[::-1]\n",
    "\n",
    "print('original_arr', arr)\n",
    "print('reverced_arr', reversed_arr)     #OUTPUT>> [9 8 7 6 5 4 3 2 1]\n"
   ]
  },
  {
   "cell_type": "code",
   "execution_count": 6,
   "id": "a8717f6a-66fa-4237-9cbb-0e9ff411587b",
   "metadata": {},
   "outputs": [
    {
     "name": "stdout",
     "output_type": "stream",
     "text": [
      "reversed_rows:--- [[7 8 9]\n",
      " [4 5 6]\n",
      " [1 2 3]]\n"
     ]
    }
   ],
   "source": [
    "#2D numpy array along y-axis(rows):-\n",
    "\n",
    "import numpy as np\n",
    "arr=np.array([[1,2,3],\n",
    "              [4,5,6],\n",
    "              [7,8,9]])\n",
    "reversed_arr=arr[::-1,:]                 # for reverse the rows\n",
    "\n",
    "print('reversed_rows:---', reversed_arr)"
   ]
  },
  {
   "cell_type": "code",
   "execution_count": 7,
   "id": "8af4523e-2a60-4517-859c-797a2f06def5",
   "metadata": {},
   "outputs": [
    {
     "name": "stdout",
     "output_type": "stream",
     "text": [
      "reversed_column:--- [[3 2 1]\n",
      " [6 5 4]\n",
      " [9 8 7]]\n"
     ]
    }
   ],
   "source": [
    "#2D numpy array along x-axis(column):-\n",
    "import numpy as np\n",
    "arr=np.array([[1,2,3],\n",
    "             [4,5,6],\n",
    "             [7,8,9]])\n",
    "reversed_arr=arr[:,::-1]                 # for reversing the column in 2D numpy array\n",
    "\n",
    "print('reversed_column:---', reversed_arr)\n",
    "       "
   ]
  },
  {
   "cell_type": "code",
   "execution_count": 8,
   "id": "d49ecf34-fa61-4e9e-95f7-647d6c9acd96",
   "metadata": {},
   "outputs": [
    {
     "name": "stdout",
     "output_type": "stream",
     "text": [
      "reversed_arr:-- [[9 8 7]\n",
      " [6 5 4]\n",
      " [3 2 1]]\n"
     ]
    }
   ],
   "source": [
    "#2D numpy array along both axis:-\n",
    "import numpy as np\n",
    "np.array([[1,2,3],\n",
    "         [4,5,6],\n",
    "         [7,8,9]])\n",
    "reversed_arr=arr[::-1, ::-1]            # for reversing the both axis simultaneously(rows & columns)\n",
    "\n",
    "print('reversed_arr:--', reversed_arr)\n"
   ]
  },
  {
   "cell_type": "code",
   "execution_count": 9,
   "id": "17da1299-771e-46e0-b0e6-8629316a943e",
   "metadata": {},
   "outputs": [],
   "source": [
    "#Summary:-\n",
    "\n",
    "#1D Arrays: Use slicing [::-1] to reverse the array.\n",
    "#2D Arrays:\n",
    "#         Reverse Rows: Use slicing [::-1, :].\n",
    "#         Reverse Columns: Use slicing [:, ::-1].\n",
    "#         Reverse Both Axes: Use slicing [::-1, ::-1].\n",
    "\n",
    "# These slicing techniques are efficient and leverage numpy powerful indexing capabilities to manipulate array dimensions."
   ]
  },
  {
   "cell_type": "code",
   "execution_count": 10,
   "id": "d66ab319-e93f-4b7f-90eb-f533528e46e3",
   "metadata": {},
   "outputs": [
    {
     "name": "stdout",
     "output_type": "stream",
     "text": [
      "arr_a:-- int64\n",
      "arr_b:-- float64\n",
      "arr_c:-- <U9\n",
      "arr_d:-- <U5\n",
      "arr_e:-- complex128\n"
     ]
    }
   ],
   "source": [
    "#Q4:- How can you determine the data type of elements in a NumPy array? Discuss the importance of data types in memory management and performance.\n",
    "\n",
    "# To determine the data type of elements in a NumPy array, you use the .dtype attribute of the array. \n",
    "# This attribute provides information about the type of data stored in the array.\n",
    "\n",
    "#EXAMPLE:-\n",
    "\n",
    "import numpy as np\n",
    "arr_int=np.array([1,2,3,4,5])\n",
    "arr_float=np.array([1.2,3.5])\n",
    "arr_str=np.array(['saumya','kesarwani'])\n",
    "arr_bool=np.array(['True', 'False'])\n",
    "arr_complex=np.array([3+5j])\n",
    "\n",
    "print('arr_a:--', arr_int.dtype)\n",
    "print('arr_b:--', arr_float.dtype)\n",
    "print('arr_c:--', arr_str.dtype)\n",
    "print('arr_d:--', arr_bool.dtype)\n",
    "print('arr_e:--', arr_complex.dtype)"
   ]
  },
  {
   "cell_type": "code",
   "execution_count": 11,
   "id": "58d1b69a-de2d-410d-b3d1-8455793e865f",
   "metadata": {},
   "outputs": [],
   "source": [
    "# Importance of Data Types:-\n",
    "\n",
    "#Data types in numpy are crucial for several reasons, primarily related to memory management and performance:\n",
    "\n",
    "#Memory Management:\n",
    "#     Size: Different data types have different sizes. Choosing the appropriate data type can significantly reduce memory usage.\n",
    "#     Efficiency: Using a smaller data type helps in saving memory, which is particularly important for large arrays or when working with limited system resources.\n",
    "\n",
    "#Performance:\n",
    "#     Computational Speed: Operations on smaller data types can be faster, e.g, integer arithmetic with int32 can be quicker than with int64 due to lower data size.\n",
    "\n",
    "###choosing the correct data type for numpy arrays can optimize both memory usage and performance."
   ]
  },
  {
   "cell_type": "code",
   "execution_count": 12,
   "id": "fb9433d7-1c75-4321-bb77-660c5437146b",
   "metadata": {},
   "outputs": [],
   "source": [
    "#Q5:- Define ndarrays in NumPy and explain their key features. How do they differ from standard Python lists?\n",
    "\n",
    "# An ndarray is a multidimensional, homogeneous array of fixed-size items. It is the core data structure of the numpy library, designed to store and operate\n",
    "#on large datasets with high performance.\n",
    "\n",
    "# Key Features of ndarray:-\n",
    "\n",
    "#(a) Multidimensional: can be 1D (vectors), 2D (matrices), or multi-dimensionals.\n",
    "#(b) Homogeneous: All elements in an ndarray are of the same data type, which allows for efficient storage and computation.\n",
    "#(c) Efficient Memory Layout: ndarrays are stored in contiguous blocks of memory, which makes access and manipulation faster compared to Python lists.\n",
    "#(d) Element-wise Operations: Operations on ndarrays are vectorized, meaning that you can perform operations on entire arrays (e.g., addition, multiplication) \n",
    "                              #without the need for explicit loops.\n",
    "#(e) Broadcasting: it allows operations on arrays of different shapes without explicitly reshaping them, enhancing flexibility and efficiency in array operations.\n",
    "#(f) Shape : 'shape' attribute returns a tuple of integers representing the size of the array along each dimension. \n",
    "#(g) Dimensions: 'ndim' attribute gives the number of dimensions.\n",
    "#(h) Data Type Control: 'dtype' attribute of an ndarray specifies the data type of its elements (e.g., int32, float64, complex128).\n",
    "\n",
    "#Performance: numpy operations are implemented in C and optimized for performance. This allows ndarrays to perform large-scale numerical operations \n",
    "               #much faster than Python lists.\n",
    "    \n",
    "\n",
    "    \n",
    "#Differences from Standard Python Lists & ndarray:-\n",
    "\n",
    "#ndarray >> \n",
    "#(1) elements must be of the same type, \n",
    "#(2) supports multidimensional array(suitable for mathematical operation & data strc.)which ensures efficient computation and storage,\n",
    "#(3) better performance for large data sets, numerical computations,\n",
    "#(4) alows fast access and manipulation,\n",
    "#(5) provides a vast library of mathematical functions (np.mean(),np.average(),np.sum(),np.multiply(),np.dot(),np.substract(),np.devide())\n",
    "         # that directly on the entire array,\n",
    "\n",
    "#python lists >>\n",
    "#(1) elements of different types (e.g., integers, strings, lists),\n",
    "#(2) Typically used for 1D lists, but can be nested to create multi-dimensional structures, which are less efficient,\n",
    "#(3) operations are executed in pure python,which is slow & less efficient for large scale computations,\n",
    "#(4) operations applied element-wise using loops or list comprehension,\n",
    "#(5) lacks built-in mathematical functions \n",
    "   \n",
    "    "
   ]
  },
  {
   "cell_type": "code",
   "execution_count": 13,
   "id": "5f55e15e-c0fd-4ddd-a912-14bd1b984f36",
   "metadata": {},
   "outputs": [
    {
     "name": "stdout",
     "output_type": "stream",
     "text": [
      "Python list:\n",
      " [1, 2, 3, 4, 5]\n",
      "Squared list:\n",
      " [1, 4, 9, 16, 25]\n"
     ]
    }
   ],
   "source": [
    "#EXAMPLE:-\n",
    "\n",
    "#using python list:-\n",
    "\n",
    "lis = [1, 2, 3, 4, 5]\n",
    "list_squared = [x**2 for x in lis]      # Element-wise operation using list comprehension\n",
    "\n",
    "print(\"Python list:\\n\", lis)\n",
    "print(\"Squared list:\\n\", list_squared)\n"
   ]
  },
  {
   "cell_type": "code",
   "execution_count": 14,
   "id": "cb5f2b16-d406-4e60-a53c-0d59d13cf4fe",
   "metadata": {},
   "outputs": [
    {
     "name": "stdout",
     "output_type": "stream",
     "text": [
      "squared numpy:\n",
      " [ 1  4  9 16 25]\n"
     ]
    }
   ],
   "source": [
    "#using ndarray:-\n",
    "\n",
    "import numpy as np\n",
    "arr=np.array([1,2,3,4,5])\n",
    "arr_squared=arr**2                       # element-wise operation using ndarray\n",
    "\n",
    "print('squared numpy:\\n', arr_squared)"
   ]
  },
  {
   "cell_type": "code",
   "execution_count": 15,
   "id": "504733b3-c6c4-4f89-afa8-d1588a91aa08",
   "metadata": {},
   "outputs": [],
   "source": [
    "# summary:--\n",
    "#ndarrays provide powerful, efficient, and flexible data structures for numerical computation, contrasting with the more general-purpose \n",
    "#and less efficient Python lists."
   ]
  },
  {
   "cell_type": "code",
   "execution_count": 16,
   "id": "6ca6a999-4982-48ae-9cdb-f4f0d9ec7a18",
   "metadata": {},
   "outputs": [],
   "source": [
    "#Q6:- Analyze the performance benefits of NumPy arrays over Python lists for large-scale numerical operations.\n",
    "\n",
    "              \n",
    "                                     # Here's are some points we have discussed:------\n",
    "    \n",
    "#1.Memory Efficiency: numpy arrays use contiguous blocks of memory and fixed data types, leading to more efficient memory use and access.\n",
    "#2.Performance of Operations: numpy supports vectorized operations and broadcasting, executed with optimized compiled code, leading to faster and \n",
    "                              #more efficient computations.\n",
    "#3.Computational Complexity: numpy operations are optimized for performance with built-in mathematical functions and low-level optimizations.\n",
    "#4.Speed of Execution: numpy arrays enable faster execution of numerical operations compared to Python lists, which rely on slower element-wise loops and operations.\n",
    "\n",
    "#(*) Overall, numpy arrays are designed for high-performance numerical computations, making them the preferred choice for large-scale data processing and \n",
    "              #scientific computing.\n"
   ]
  },
  {
   "cell_type": "code",
   "execution_count": 17,
   "id": "dd35148e-ac79-438e-9cd9-fe2a6ad6be48",
   "metadata": {},
   "outputs": [
    {
     "name": "stdout",
     "output_type": "stream",
     "text": [
      "Result of vstack:\n",
      " [[ 1  2  3]\n",
      " [ 4  5  6]\n",
      " [ 7  8  9]\n",
      " [10 11 12]]\n"
     ]
    }
   ],
   "source": [
    "#Q7:-  Compare vstack() and hstack() functions in NumPy. Provide examples demonstrating their usage and output.\n",
    "\n",
    "\n",
    "# vstack():- stacks arrays along the vertical axis (i.e., rows) and requires arrays to have the same number of columns.\n",
    "#EXAMPLE:\n",
    "import numpy as np\n",
    "\n",
    "# Define two 2D arrays\n",
    "arr1 = np.array([[1,2,3], [4,5,6]])\n",
    "arr2 = np.array([[7,8,9], [10,11,12]])\n",
    "\n",
    "# Use vstack to stack them vertically\n",
    "result = np.vstack((arr1, arr2))\n",
    "\n",
    "print(\"Result of vstack:\\n\", result)"
   ]
  },
  {
   "cell_type": "code",
   "execution_count": 18,
   "id": "7a32599d-e979-426a-9542-4a1d762f084c",
   "metadata": {},
   "outputs": [
    {
     "name": "stdout",
     "output_type": "stream",
     "text": [
      "Result of hstack:\n",
      " [[ 1  2  3  7  8  9]\n",
      " [ 4  5  6 10 11 12]]\n"
     ]
    }
   ],
   "source": [
    "#hstack():- stacks arrays along the horizontal axis (i.e., columns) and requires arrays to have the same number of rows.\n",
    "#EXAMPLE:\n",
    "import numpy as np\n",
    "\n",
    "# Define two 2D arrays\n",
    "arr1 = np.array([[1,2,3], [4,5,6]])\n",
    "arr2 = np.array([[7,8,9], [10,11,12]])\n",
    "\n",
    "# Use hstack to stack them horizontally\n",
    "result = np.hstack((arr1, arr2))\n",
    "\n",
    "print(\"Result of hstack:\\n\", result)"
   ]
  },
  {
   "cell_type": "code",
   "execution_count": 19,
   "id": "5084a967-abd2-4242-a342-3d0261ce71ff",
   "metadata": {},
   "outputs": [
    {
     "name": "stdout",
     "output_type": "stream",
     "text": [
      "Original array:\n",
      " [[1 2 3]\n",
      " [4 5 6]]\n",
      "Flipped horizontally (fliplr):\n",
      " [[3 2 1]\n",
      " [6 5 4]]\n"
     ]
    }
   ],
   "source": [
    "#Q8:-  Explain the differences between fliplr() and flipud() methods in NumPy, including their effects on various array dimensions.\n",
    "\n",
    "#fliplr() flips arrays left-to-right (along columns) and is mainly used with 2D arrays.\n",
    "#EXAMPLE:\n",
    "import numpy as np\n",
    "\n",
    "# Define a 2D array\n",
    "arr_of_2d = np.array([[1,2,3], [4,5,6]])\n",
    "\n",
    "# Use fliplr to flip horizontally\n",
    "flipped_lr = np.fliplr(arr_of_2d)\n",
    "\n",
    "print(\"Original array:\\n\", arr_of_2d)\n",
    "print(\"Flipped horizontally (fliplr):\\n\", flipped_lr)\n"
   ]
  },
  {
   "cell_type": "code",
   "execution_count": 20,
   "id": "ef9992de-ed42-420d-b4fa-8fc868b4c0e3",
   "metadata": {},
   "outputs": [
    {
     "name": "stdout",
     "output_type": "stream",
     "text": [
      "Original array:\n",
      " [[1 2 3]\n",
      " [4 5 6]]\n",
      "Flipped vertically (flipud):\n",
      " [[4 5 6]\n",
      " [1 2 3]]\n"
     ]
    }
   ],
   "source": [
    "#flipud() flips arrays up-to-down (along rows) and is also mainly used with 2D arrays.\n",
    "#EXAMPLE:\n",
    "import numpy as np\n",
    "\n",
    "# Define a 2D array\n",
    "arr_of_2d = np.array([[1,2,3],[4,5,6]])\n",
    "\n",
    "# Use flipud to flip vertically\n",
    "flipped_ud = np.flipud(arr_of_2d)\n",
    "\n",
    "print(\"Original array:\\n\", arr_of_2d)\n",
    "print(\"Flipped vertically (flipud):\\n\", flipped_ud)\n"
   ]
  },
  {
   "cell_type": "code",
   "execution_count": 21,
   "id": "0c64ef9c-b0da-4246-8eff-ae7ddab01526",
   "metadata": {},
   "outputs": [
    {
     "name": "stdout",
     "output_type": "stream",
     "text": [
      "Original 3D array:\n",
      " [[[ 1  2  3]\n",
      "  [ 4  5  6]\n",
      "  [ 7  8  9]\n",
      "  [10 11 12]]]\n",
      "\n",
      "Flipped horizontally (fliplr):\n",
      " [[[10 11 12]\n",
      "  [ 7  8  9]\n",
      "  [ 4  5  6]\n",
      "  [ 1  2  3]]]\n",
      "\n",
      "Flipped vertically (flipud):\n",
      " [[[ 1  2  3]\n",
      "  [ 4  5  6]\n",
      "  [ 7  8  9]\n",
      "  [10 11 12]]]\n"
     ]
    }
   ],
   "source": [
    "# EXAMPLE with 3d array\n",
    "import numpy as np\n",
    "\n",
    "# Define a 3D array\n",
    "arr_of_3d = np.array([[[1,2,3], [4,5,6],[7,8,9],[10,11,12]]])\n",
    "\n",
    "# Flip horizontally\n",
    "flipped_lr_3d = np.fliplr(arr_of_3d)\n",
    "\n",
    "# Flip vertically\n",
    "flipped_ud_3d = np.flipud(arr_of_3d)\n",
    "\n",
    "print(\"Original 3D array:\\n\",arr_of_3d)\n",
    "print(\"\\nFlipped horizontally (fliplr):\\n\", flipped_lr_3d)\n",
    "print(\"\\nFlipped vertically (flipud):\\n\", flipped_ud_3d)\n"
   ]
  },
  {
   "cell_type": "code",
   "execution_count": 22,
   "id": "89051e66-53eb-46a6-93d6-836d36b7b864",
   "metadata": {},
   "outputs": [
    {
     "name": "stdout",
     "output_type": "stream",
     "text": [
      "uneven splits:--\n",
      " [array([1, 2, 3]), array([4, 5]), array([6, 7, 8, 9])]\n"
     ]
    }
   ],
   "source": [
    "#Q9:- Discuss the functionality of the array_split() method in NumPy. How does it handle uneven splits?\n",
    "\n",
    "#array_split() provides flexible splitting options and handles uneven splits gracefully by distributing elements as evenly as possible.\n",
    "               #This makes it a versatile tool for dividing arrays into manageable pieces, regardless of their size or shape.\n",
    "    \n",
    "#EXAMPLE:-\n",
    "#uneven split in 1D:-\n",
    "\n",
    "import numpy as np\n",
    "arr=np.array([1,2,3,4,5,6,7,8,9])\n",
    "split_indicies=np.array_split(arr, [3,5])        #split the array\n",
    "\n",
    "print('uneven splits:--\\n', split_indicies)\n"
   ]
  },
  {
   "cell_type": "code",
   "execution_count": 23,
   "id": "c9583b72-248c-4e0f-8bed-f63988044348",
   "metadata": {},
   "outputs": [
    {
     "name": "stdout",
     "output_type": "stream",
     "text": [
      "uneven split:--\n",
      " [array([[1, 2, 3],\n",
      "       [4, 5, 6]]), array([[7, 8, 9]])]\n"
     ]
    }
   ],
   "source": [
    "#uneven split in 2D:-\n",
    "\n",
    "#by rows----\n",
    "\n",
    "import numpy as np\n",
    "arr=np.array([[1,2,3],\n",
    "              [4,5,6],\n",
    "              [7,8,9]])\n",
    "split_rows=np.array_split(arr,2, axis=0)              #split in rows using axis=0\n",
    "\n",
    "print('uneven split:--\\n', split_rows)"
   ]
  },
  {
   "cell_type": "code",
   "execution_count": 24,
   "id": "fde41d2e-9c2a-47e4-a676-592cf49b3b4c",
   "metadata": {},
   "outputs": [
    {
     "name": "stdout",
     "output_type": "stream",
     "text": [
      "uneven split:---\n",
      " [array([[1, 2],\n",
      "       [4, 5],\n",
      "       [6, 7]]), array([[3],\n",
      "       [6],\n",
      "       [8]])]\n"
     ]
    }
   ],
   "source": [
    "#by column----\n",
    "\n",
    "import numpy as np\n",
    "arr=np.array([[1,2,3],\n",
    "              [4,5,6],\n",
    "              [6,7,8]])\n",
    "split_column=np.array_split(arr,2, axis=1)            #split in column using axis=1\n",
    "\n",
    "print('uneven split:---\\n', split_column)"
   ]
  },
  {
   "cell_type": "code",
   "execution_count": 25,
   "id": "005b9595-3e06-4ddc-9e58-70e74982db2e",
   "metadata": {},
   "outputs": [
    {
     "name": "stdout",
     "output_type": "stream",
     "text": [
      "even split:\n",
      " [array([1, 2, 3, 4, 5]), array([ 6,  7,  8,  9, 10])]\n"
     ]
    }
   ],
   "source": [
    "# example of even split in 1D:-\n",
    "\n",
    "import numpy as np\n",
    "a=np.array([1,2,3,4,5,6,7,8,9,10])\n",
    "split_indicies=np.array_split(a,2)      #split evenly\n",
    "\n",
    "print('even split:\\n', split_indicies)"
   ]
  },
  {
   "cell_type": "code",
   "execution_count": 26,
   "id": "9a994b4a-64c3-48da-9bc3-394908fa7cb3",
   "metadata": {},
   "outputs": [
    {
     "name": "stdout",
     "output_type": "stream",
     "text": [
      "adding arrays:\n",
      " [1.63056292 1.00271062 0.73508489 ... 1.87843063 1.34042333 1.05894381]\n"
     ]
    }
   ],
   "source": [
    "#Q10:- Explain the concepts of vectorization and broadcasting in NumPy. How do they contribute to efficient array operations?\n",
    " \n",
    "# Vectorization: Enables operations on entire arrays at once using optimized, compiled code, leading to faster computations and avoiding explicit loops.\n",
    "# Broadcasting:  Allows for arithmetic operations on arrays with different shapes by adjusting their shapes virtually, \n",
    "                #enabling efficient and straightforward array manipulations.\n",
    "    \n",
    "#EXAMPLE OF VECTORIZATION:--\n",
    "\n",
    "import numpy as np\n",
    "arr1=np.random.rand(10000000)   # creating two large numpy arrays\n",
    "arr2=np.random.rand(10000000)\n",
    "\n",
    "result=arr1+arr2                #vectorisation operation(element-wise addition)\n",
    "\n",
    "print('adding arrays:\\n', result) "
   ]
  },
  {
   "cell_type": "code",
   "execution_count": 27,
   "id": "f674e7f9-dbf0-47ab-85a5-61ff90d62116",
   "metadata": {},
   "outputs": [
    {
     "name": "stdout",
     "output_type": "stream",
     "text": [
      "1D_array:\n",
      " [1 2 3]\n",
      "2D_array:\n",
      " [[1 2 3]\n",
      " [4 5 6]\n",
      " [7 8 9]]\n",
      "substract_arrays:\n",
      " [[ 0  0  0]\n",
      " [-3 -3 -3]\n",
      " [-6 -6 -6]]\n"
     ]
    }
   ],
   "source": [
    "#EXAMPLE OF BROADCASTING:--\n",
    "\n",
    "import numpy as np\n",
    "arr1=np.array([1,2,3])     #creating 1D array\n",
    "arr2=np.array([[1,2,3],    # creating 2D array\n",
    "               [4,5,6],\n",
    "               [7,8,9]])\n",
    "\n",
    "result=arr1-arr2           #broadcast 1D array to the shape of the 2D aray\n",
    "print('1D_array:\\n', arr1)\n",
    "print('2D_array:\\n', arr2)\n",
    "print('substract_arrays:\\n', result)       #WE use element-wise substraction "
   ]
  },
  {
   "cell_type": "code",
   "execution_count": 28,
   "id": "1b388d30-08a5-4f9a-b331-4ecd6d278c92",
   "metadata": {},
   "outputs": [
    {
     "name": "stdout",
     "output_type": "stream",
     "text": [
      "original_arr:\n",
      " [[78 51 31]\n",
      " [72 97 81]\n",
      " [48 16 10]]\n",
      "transpose_arr:\n",
      " [[78 72 48]\n",
      " [51 97 16]\n",
      " [31 81 10]]\n"
     ]
    }
   ],
   "source": [
    "                                                    #PRACTICAL QUESTIONS\n",
    "\n",
    "\n",
    "#Q1:-  Create a 3x3 NumPy array with random integers between 1 and 100. Then, interchange its rows and columns.\n",
    "\n",
    "import numpy as np\n",
    "arr=np.random.randint(1,101, size= (3,3))\n",
    "interchange_arr=arr.T                         #using arr.T   for intercange(transpose) the rows &columns\n",
    "print('original_arr:\\n', arr)\n",
    "print('transpose_arr:\\n', interchange_arr)\n",
    "\n"
   ]
  },
  {
   "cell_type": "code",
   "execution_count": 29,
   "id": "75cca8c9-2f9e-4021-bddc-0c9077fdb394",
   "metadata": {},
   "outputs": [
    {
     "name": "stdout",
     "output_type": "stream",
     "text": [
      "original_array:\n",
      " [0 1 2 3 4 5 6 7 8 9]\n",
      "reshaped into 2*5:\n",
      " [[0 1 2 3 4]\n",
      " [5 6 7 8 9]]\n",
      "reshaped into 5*2:\n",
      " [[0 1]\n",
      " [2 3]\n",
      " [4 5]\n",
      " [6 7]\n",
      " [8 9]]\n"
     ]
    }
   ],
   "source": [
    "#Q2:-     Generate a 1D NumPy array with 10 elements. Reshape it into a 2x5 array, then into a 5x2 array.\n",
    "\n",
    "\n",
    "import numpy as np\n",
    "arr=np.arange(10)\n",
    "arr1=arr.reshape(2,5)\n",
    "arr2=arr.reshape(5,2)\n",
    "print('original_array:\\n', arr)\n",
    "print('reshaped into 2*5:\\n', arr1)\n",
    "print('reshaped into 5*2:\\n', arr2)"
   ]
  },
  {
   "cell_type": "code",
   "execution_count": 30,
   "id": "3421dbf2-5a9e-45cb-a56c-ab47c0791d3d",
   "metadata": {},
   "outputs": [
    {
     "name": "stdout",
     "output_type": "stream",
     "text": [
      "4*4 array:\n",
      " [[0.59673662 0.57903149 0.11593303 0.98785268]\n",
      " [0.08559456 0.35363368 0.74076582 0.95933417]\n",
      " [0.46801025 0.00812743 0.66220737 0.31575182]\n",
      " [0.46328663 0.89185585 0.01002133 0.73867577]]\n",
      "border_of_zeros_around_it:\n",
      " [[0.         0.         0.         0.         0.         0.        ]\n",
      " [0.         0.59673662 0.57903149 0.11593303 0.98785268 0.        ]\n",
      " [0.         0.08559456 0.35363368 0.74076582 0.95933417 0.        ]\n",
      " [0.         0.46801025 0.00812743 0.66220737 0.31575182 0.        ]\n",
      " [0.         0.46328663 0.89185585 0.01002133 0.73867577 0.        ]\n",
      " [0.         0.         0.         0.         0.         0.        ]]\n"
     ]
    }
   ],
   "source": [
    "#Q3:-   Create a 4x4 NumPy array with random float values. Add a border of zeros around it, resulting in a 6x6 array.\n",
    "\n",
    "import numpy as np\n",
    "arr=np.random.rand(4,4)\n",
    "array_with_border = np.pad(arr, pad_width=1, mode='constant', constant_values=0)         #using 'np.pad' for zeros of borders all around the elements.\n",
    "print('4*4 array:\\n', arr)\n",
    "print('border_of_zeros_around_it:\\n', array_with_border)\n"
   ]
  },
  {
   "cell_type": "code",
   "execution_count": 31,
   "id": "b756feb4-4ca9-4665-ae8f-961ae4029ff0",
   "metadata": {},
   "outputs": [
    {
     "data": {
      "text/plain": [
       "array([10, 15, 20, 25, 30, 35, 40, 45, 50, 55, 60])"
      ]
     },
     "execution_count": 31,
     "metadata": {},
     "output_type": "execute_result"
    }
   ],
   "source": [
    "#Q4:-     Using NumPy, create an array of integers from 10 to 60 with a step of 5.\n",
    "\n",
    "import numpy as np\n",
    "arr=np.arange(10,61, 5)       #start>> 10, we use 61 due to np.arange() is exclusive for endpoints, step>> 5(step size b/w values)\n",
    "arr\n"
   ]
  },
  {
   "cell_type": "code",
   "execution_count": 32,
   "id": "a8e274c9-84d5-4432-bff1-cddd19c549c5",
   "metadata": {},
   "outputs": [
    {
     "name": "stdout",
     "output_type": "stream",
     "text": [
      "numpy_array_strings:\n",
      " ['python' 'numpy' 'pandas']\n",
      "in_uppercase_strings:\n",
      " ['PYTHON' 'NUMPY' 'PANDAS']\n",
      "in_lowercase_strings:\n",
      " ['python' 'numpy' 'pandas']\n",
      "in-titlecase_strings:\n",
      " ['Python' 'Numpy' 'Pandas']\n",
      "in_capitalise_strings:\n",
      " ['Python' 'Numpy' 'Pandas']\n"
     ]
    }
   ],
   "source": [
    "#Q5:-   Create a NumPy array of strings ['python', 'numpy', 'pandas']. Apply different case transformations(uppercase, lowercase, title case, etc.) to each element.\n",
    "\n",
    "import numpy as np\n",
    "arr=np.array(['python','numpy','pandas'])\n",
    "arr1=np.char.upper(arr)\n",
    "arr2=np.char.lower(arr)\n",
    "arr3=np.char.title(arr)\n",
    "arr4=np.char.capitalize(arr)\n",
    "\n",
    "print('numpy_array_strings:\\n', arr)\n",
    "print('in_uppercase_strings:\\n', arr1)\n",
    "print('in_lowercase_strings:\\n', arr2)\n",
    "print('in-titlecase_strings:\\n', arr3)         # titlecase and capitalize we use both,output>> same.\n",
    "print('in_capitalise_strings:\\n', arr4)\n"
   ]
  },
  {
   "cell_type": "code",
   "execution_count": 33,
   "id": "89a58fa8-4813-4a8e-875e-bb2a8a142b52",
   "metadata": {},
   "outputs": [
    {
     "name": "stdout",
     "output_type": "stream",
     "text": [
      "original arr:\n",
      " ['hello' 'saumya' 'wlcm']\n",
      "spaced_all_the_words:\n",
      " ['h  e  l  l  o' 's  a  u  m  y  a' 'w  l  c  m']\n"
     ]
    }
   ],
   "source": [
    "#Q6:-    Generate a NumPy array of words. Insert a space between each character of every word in the array.\n",
    "\n",
    "import numpy as np\n",
    "arr=np.array(['hello','saumya','wlcm'])\n",
    "arr2=np.char.join('  ', arr)\n",
    "print('original arr:\\n', arr)\n",
    "print('spaced_all_the_words:\\n', arr2)"
   ]
  },
  {
   "cell_type": "code",
   "execution_count": 34,
   "id": "baa4d0a8-b574-41dc-b359-0e2ee39f81c9",
   "metadata": {},
   "outputs": [
    {
     "name": "stdout",
     "output_type": "stream",
     "text": [
      "1st_2D_array:\n",
      " [[1 2 3]\n",
      " [4 5 6]\n",
      " [7 8 9]]\n",
      "2nd_2D_array:\n",
      " [[10 20 30]\n",
      " [30 40 50]\n",
      " [70 80 90]]\n",
      "addition_of_two_arrays:\n",
      " [[11 22 33]\n",
      " [34 45 56]\n",
      " [77 88 99]]\n",
      "substraction_of_two_arrays:\n",
      " [[ -9 -18 -27]\n",
      " [-26 -35 -44]\n",
      " [-63 -72 -81]]\n",
      "multiplication_of_two_arrays:\n",
      " [[ 10  40  90]\n",
      " [120 200 300]\n",
      " [490 640 810]]\n",
      "division_of_two_arrays:\n",
      " [[1 2 3]\n",
      " [4 5 6]\n",
      " [7 8 9]]\n"
     ]
    }
   ],
   "source": [
    "#Q7:-   Create two 2D NumPy arrays and perform element-wise addition, subtraction, multiplication, and division.\n",
    "\n",
    "\n",
    "import numpy as np\n",
    "arr1=np.array([[1,2,3],\n",
    "               [4,5,6],\n",
    "               [7,8,9]])\n",
    "arr2=np.array([[10,20,30],\n",
    "              [30,40,50],\n",
    "              [70,80,90]])\n",
    "arr3=arr1+arr2\n",
    "arr4=arr1-arr2\n",
    "arr5=arr1*arr2\n",
    "arr6=arr1%arr2\n",
    "\n",
    "print('1st_2D_array:\\n', arr1)\n",
    "print('2nd_2D_array:\\n', arr2)\n",
    "print('addition_of_two_arrays:\\n', arr3)\n",
    "print('substraction_of_two_arrays:\\n', arr4)\n",
    "print('multiplication_of_two_arrays:\\n', arr5)\n",
    "print('division_of_two_arrays:\\n', arr6)"
   ]
  },
  {
   "cell_type": "code",
   "execution_count": 35,
   "id": "2369596c-f66c-4a69-b6f4-617d3780a0b0",
   "metadata": {},
   "outputs": [
    {
     "name": "stdout",
     "output_type": "stream",
     "text": [
      "matrix_of_5*5:\n",
      " [[1. 0. 0. 0. 0.]\n",
      " [0. 1. 0. 0. 0.]\n",
      " [0. 0. 1. 0. 0.]\n",
      " [0. 0. 0. 1. 0.]\n",
      " [0. 0. 0. 0. 1.]]\n",
      "diagonal elements:\n",
      " [1. 1. 1. 1. 1.]\n"
     ]
    }
   ],
   "source": [
    "#Q8:-    Use NumPy to create a 5x5 identity matrix, then extract its diagonal elements.\n",
    "\n",
    "import numpy as np\n",
    "arr=np.eye(5)\n",
    "arr1=np.diag(arr)                    # using np.diag() for extract its diagonal elements in matrix\n",
    "print('matrix_of_5*5:\\n', arr)\n",
    "print('diagonal elements:\\n', arr1)"
   ]
  },
  {
   "cell_type": "code",
   "execution_count": 36,
   "id": "e93fef9e-eba5-4f8b-84d3-0d7e12bf3410",
   "metadata": {},
   "outputs": [
    {
     "name": "stdout",
     "output_type": "stream",
     "text": [
      "random array:\n",
      " [364 301 648 994  97 378 464 596 133 252 535 727 427 483 891 854 388 316\n",
      " 387 742 884 526 728  28 711 154  63 725 628 454 239 932 262 206 703 634\n",
      " 703 767 311 150  33 697 513 398 155 466 701 466 582 663 783 379 999 738\n",
      " 943 974 501 706 184 243 698  16 250 404 195 305  82   1 844 828 446 885\n",
      " 800 660 300 619 813 308 839 890 552 711 183 464 501 862 567 885 346 175\n",
      " 877 550 626  48 633 822  32 626 205 556]\n",
      "prime no.:\n",
      " [np.int32(97), np.int32(727), np.int32(239), np.int32(311), np.int32(701), np.int32(379), np.int32(619), np.int32(839), np.int32(877)]\n"
     ]
    }
   ],
   "source": [
    "#Q9:- Generate a NumPy array of 100 random integers between 0 and 1000. Find and display all prime numbers in this array\n",
    "\n",
    "import numpy as np\n",
    "arr=np.random.randint(0,1001, size=100)\n",
    "            \n",
    "#define a function to check if a no. is prime\n",
    "def is_prime(n):\n",
    "    'Check if a number is a prime number'\n",
    "    if n <= 1:\n",
    "        return False\n",
    "    if n <= 3:\n",
    "        return True\n",
    "    if n % 2 == 0 or n % 3 == 0:\n",
    "        return False\n",
    "    i = 5\n",
    "    while i * i <= n:\n",
    "        if n % i == 0 or n % (i + 2) == 0:\n",
    "            return False\n",
    "        i += 6\n",
    "    return True\n",
    "\n",
    "prime_numbers = [num for num in arr if is_prime(num)]              #find all prime no. in the array\n",
    "\n",
    "print('random array:\\n', arr)\n",
    "print('prime no.:\\n', prime_numbers)\n"
   ]
  },
  {
   "cell_type": "code",
   "execution_count": 37,
   "id": "02671aaa-66a9-413d-8b42-a2292fcc97fe",
   "metadata": {},
   "outputs": [
    {
     "name": "stdout",
     "output_type": "stream",
     "text": [
      "Daily_temperature_for_Month:----\n",
      " [44 35 36 44 37 45 37 39 45 39 37 37 38 36 37 41 37 32 44 41 45 38 34 37\n",
      " 39 33 35 32]\n",
      "Weekly_temperature:----\n",
      " [[44 35 36 44 37 45 37]\n",
      " [39 45 39 37 37 38 36]\n",
      " [37 41 37 32 44 41 45]\n",
      " [38 34 37 39 33 35 32]]\n",
      "Weekly_average Temperature:----\n",
      " [39.71428571 38.71428571 39.57142857 35.42857143]\n"
     ]
    }
   ],
   "source": [
    "#Q10:-     Create a NumPy array representing daily temperatures for a month. Calculate and display the weekly average\n",
    "\n",
    "import numpy as np\n",
    "daily_temp=np.random.randint(32, 46, size=28)                        # Create a NumPy array representing daily temperatures for a month (30 days)\n",
    "weekly_temp=daily_temp.reshape(4, 7)                                 # Reshape the array into weeks (assuming 4 weeks of 7 days each)\n",
    "weekly_average=np.mean(weekly_temp, axis=1)                          # Calculate the weekly averages\n",
    "\n",
    "print('Daily_temperature_for_Month:----\\n',  daily_temp)\n",
    "print('Weekly_temperature:----\\n',  weekly_temp)\n",
    "print('Weekly_average Temperature:----\\n',  weekly_average)"
   ]
  },
  {
   "cell_type": "code",
   "execution_count": null,
   "id": "99c915f1-2bc7-4a11-8cfd-6d65d579e9c9",
   "metadata": {},
   "outputs": [],
   "source": []
  }
 ],
 "metadata": {
  "kernelspec": {
   "display_name": "Python 3 (ipykernel)",
   "language": "python",
   "name": "python3"
  },
  "language_info": {
   "codemirror_mode": {
    "name": "ipython",
    "version": 3
   },
   "file_extension": ".py",
   "mimetype": "text/x-python",
   "name": "python",
   "nbconvert_exporter": "python",
   "pygments_lexer": "ipython3",
   "version": "3.12.5"
  }
 },
 "nbformat": 4,
 "nbformat_minor": 5
}
